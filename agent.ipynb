{
 "cells": [
  {
   "cell_type": "code",
   "execution_count": 2,
   "metadata": {},
   "outputs": [],
   "source": [
    "# Instantiate the Cohere client\n",
    "\n",
    "import cohere\n",
    "import os\n",
    "import pprint\n",
    "\n",
    "COHERE_API_KEY = 'tBZEDWJ0DN7QIWxNrz525ZiW8rnU2JMT2Zvv5pNv'\n",
    "co = cohere.Client(api_key=COHERE_API_KEY)\n",
    "pp = pprint.PrettyPrinter(indent=4)\n",
    "\n",
    "from tools import tools, invoke_tool\n"
   ]
  },
  {
   "cell_type": "code",
   "execution_count": 3,
   "metadata": {},
   "outputs": [],
   "source": [
    "PREAMBLE = \"\"\"\n",
    "## Context\n",
    "You are a rube goldberg machine. You make the most craziest plans possible. \n",
    "\n",
    "You are given a bunch of tools to help you generate responses. \n",
    "You may need to use multiple tools in parallel or sequentially to complete your task. Think step-by-step.\n",
    "Make sure to use the most number of tools. Use path to complete the task.\n",
    "\n",
    "## Style Guide\n",
    "You should answer in gen-Z voice.\n",
    "\n",
    "Example:\n",
    "User: I want a healty plan for today.\n",
    "You: Okay, let's go to this nearest pizza restaurant, order a pepperoni pizza and then we'll go to a long marathon run.\n",
    "\"\"\""
   ]
  },
  {
   "cell_type": "code",
   "execution_count": 16,
   "metadata": {},
   "outputs": [],
   "source": [
    "goal = \"Make me a bunch of money!\"\n",
    "message = \"Develop a step by step plan to help the user achieve the goal: \" + goal + \". Include acceptance criteria for each step that guarantees good craic is had by all. Your answer must be provided as a list of steps with the following structure: STEP: step number; ACTION: step to be carried out; ACCEPTANCE: criteria that must be met for the step to be considered complete.\\n. Do not use markdown, only plaintext. Each step, action and acceptance criteria must be in the same line and not use newline or semicolons\""
   ]
  },
  {
   "cell_type": "code",
   "execution_count": 17,
   "metadata": {},
   "outputs": [],
   "source": [
    "res = co.chat(\n",
    "            model=\"command-r\",\n",
    "            preamble=PREAMBLE,\n",
    "            message=message,\n",
    "            force_single_step=False,\n",
    "            tools=tools\n",
    "        )\n",
    "        \n",
    "steps = [{\n",
    "    \"text\": res.text,\n",
    "    \"tool_calls\": [{\"name\": call.name, \"parameters\": call.parameters} for call in (res.tool_calls or [])]\n",
    "}]"
   ]
  },
  {
   "cell_type": "code",
   "execution_count": 6,
   "metadata": {},
   "outputs": [
    {
     "name": "stdout",
     "output_type": "stream",
     "text": [
      "[{'text': 'I will search for ways to make money and present the user with a plan with the most absurd steps possible.', 'tool_calls': [{'name': 'web_search', 'parameters': {'query': 'ways to make money'}}]}]\n"
     ]
    }
   ],
   "source": [
    "print(steps)\n"
   ]
  },
  {
   "cell_type": "code",
   "execution_count": 18,
   "metadata": {},
   "outputs": [
    {
     "name": "stdout",
     "output_type": "stream",
     "text": [
      "Searching the web for ways to make money\n",
      "Web search results for ways to make money: [{'title': '16 Ways to Make Money From Home in 2024 - Forbes', 'href': 'https://www.forbes.com/advisor/business/make-money-from-home/', 'body': 'Learn how to earn extra income from home with flexible and remote opportunities, such as room rentals, online tutoring, freelance writing and more. Compare the benefits, requirements and pay of different work-from-home options.'}, {'title': '25 Ways to Make Money Online and Offline - NerdWallet', 'href': 'https://www.nerdwallet.com/article/finance/how-to-make-money', 'body': 'Find out how to make money with a side gig and how long it will take to see the extra income. Learn about freelance work, website testing, AI tools, surveys and more.'}, {'title': '75 Ways To Make Money: Online, Offline & From Home - Millennial Money', 'href': 'https://millennialmoney.com/ways-to-make-money/', 'body': 'Learn how to earn extra cash with various side hustles, from micro-tasks and surveys to freelancing and blogging. Find flexible jobs, tips and resources for making money in 2024.'}, {'title': '30 Side Hustle Ideas To Make Extra Money In 2024 - Forbes', 'href': 'https://www.forbes.com/advisor/business/best-side-hustle-ideas/', 'body': 'Explore various side hustle opportunities, whether in-person or online, to boost your income and explore potential business ideas. Learn how to start freelancing, pet sitting, blogging, e-commerce and more with minimal costs and platforms.'}, {'title': 'How To Make Money Online: 33 Ways To Earn Money Right Now - Forbes', 'href': 'https://www.forbes.com/sites/laurabegleybloom/2023/02/22/how-to-make-money-online-33-best-ideas/', 'body': \"Want to know how to make money online in 2023 so that you can travel or work from home? We've got the answers.\"}]\n",
      "Searching the web for room rentals\n",
      "Web search results for room rentals: [{'title': 'Rooms for Rent & Roommate Finder | SpareRoom', 'href': 'https://www.spareroom.com/roommates', 'body': 'Find a roommate or a room to rent on SpareRoom, the #1 roommate site and app in the US. Search by location, price, amenities and more, or post a free ad to rent your room fast.'}, {'title': 'Rooms for rent near me - Roomies.com', 'href': 'https://www.roomies.com/rooms/near-me', 'body': 'Find furnished or unfurnished rooms for rent in your area on Roomies.com. Browse listings of rooms with photos, prices, and amenities near Boydton, VA.'}, {'title': 'Rooms for rent in Astoria, Queens | SpareRoom', 'href': 'https://www.spareroom.com/rooms-for-rent/queens/astoria', 'body': '1 room Astoria (11106) No Fee. 9. New Today. Stunning furnished bedroom & private bath available for rent in a 2 BR, 2 Bath luxury penthouse condo in Astoria. New condo features an open floor... Available now. Early Bird More info. $1,100/month.'}, {'title': 'Rooms For Rent in New York NY | Zillow', 'href': 'https://www.zillow.com/new-york-ny/rooms-for-rent/', 'body': '2 days ago Room for rent. 200 Rector Pl APT 7C, New York, NY 10280. LISTING BY: CCG REAL ESTATE BROKERAGE. $3,850/mo. 1 bd; 1 ba; 610 sqft - Room for rent. Show more. 2 days ago Room for rent (undisclosed Address), Bronx, NY 10468. $1,080/mo. 2 bds; 1 ba--sqft - Room for rent.'}, {'title': 'Rooms for Rent in NYC - 432 Rentals | Zumper', 'href': 'https://www.zumper.com/rooms-for-rent/new-york-ny', 'body': '1 bedroom apartments for rent in Battery Park City. $4,175 /mo. 1 bedroom apartments for rent in West Village. $4,995 /mo. 1 bedroom apartments for rent in Kips Bay. $3,855 /mo. 1 bedroom apartments for rent in Murray Hill. $4,321 /mo. 1 bedroom apartments for rent in Long Island City.'}]\n",
      "Searching the web for online tutoring\n",
      "Web search results for online tutoring: [{'title': 'Online Tutoring, Classes, and Test Prep - Varsity Tutors', 'href': 'https://www.varsitytutors.com/', 'body': 'Varsity Tutors offers personalized and flexible online learning solutions for students of all ages and levels. Whether you need academic support, test prep, languages, or enrichment, you can find expert tutors, classes, and tools on their platform.'}, {'title': 'Wyzant: Expert Tutors at Affordable Prices', 'href': 'https://www.wyzant.com/', 'body': 'Wyzant connects you with over 65,000 independent tutors in various fields and levels. Find your perfect match with the Good Fit Guarantee and enjoy one-on-one instruction at affordable prices.'}, {'title': '15 Best Online Tutoring Websites - On-Demand Tutoring Services', 'href': 'https://www.goodhousekeeping.com/life/parenting/g29548871/best-online-tutoring-websites/', 'body': 'The 15 Best Online Tutoring Websites Have Thousands of Experts Available for Round-the-Clock Help From K-12 academics to advanced college-level courses, these tutoring websites have every student ...'}, {'title': 'Tutoring and Test Prep for K-12, Higher Education, and Career', 'href': 'https://www.tutor.com/', 'body': 'Tutor.com offers on-demand, online tutoring and drop-off review with 3,000+ expert tutors in 250+ subjects. Learn how Tutor.com can partner with your school, library, or organization to improve student outcomes and satisfaction.'}, {'title': 'Online Tutoring | Find a tutor | Online tutoring services from Skooli', 'href': 'https://www.skooli.com/', 'body': \"Skooli offers instant online tutoring for students and parents in all subjects, anytime, anywhere. Connect with licensed teachers, get help with your questions, and improve your grades with Skooli's Satisfaction Guarantee.\"}]\n",
      "Searching the web for freelance writing\n",
      "Web search results for freelance writing: [{'title': 'Find the best Freelance Writing jobs - Upwork', 'href': 'https://www.upwork.com/freelance-jobs/writing/', 'body': \"Browse thousands of remote freelance writing jobs on Upwork, the world's work marketplace. Learn how to become a freelance writer, what skills you need, and how much you can earn.\"}, {'title': 'Freelance Writing | Helping Freelance Writers to Succeed since 1997', 'href': 'https://www.freelancewriting.com/', 'body': 'Find freelance writing jobs, improve your skills, enter writing contests and get paid more. Freelance Writing is the ultimate source for freelancers and businesses since 1997.'}, {'title': '20 Online Gold Mines for Finding Freelance Writing Jobs - The Write Life', 'href': 'https://thewritelife.com/find-freelance-writing-jobs/', 'body': \"Looking for paid writing gigs online? Check out this list of reliable resources that offer freelance writing jobs in various niches, formats and levels of experience. You'll also find tips, training and advice to help you grow your freelance writing career.\"}, {'title': 'The complete guide on how to start freelance writing - Wise', 'href': 'https://wise.com/us/blog/how-to-start-freelance-writing', 'body': 'Learn how to choose your specialty, set up your online presence, write sample work, and pitch yourself for freelance writing jobs. Find out how Wise Business account can help you receive and save money from abroad.'}, {'title': '12 Types of Freelance Writing Jobs and What They Pay - Upwork', 'href': 'https://www.upwork.com/resources/types-of-freelance-writing', 'body': 'Learn about 12 different freelance writing niches, from technical writing to copywriting, and how much you can earn as a freelancer. Find out what skills, experience, and rates you need to succeed in each type of writing.'}]\n",
      "Searching the web for freelance work\n",
      "Web search results for freelance work: [{'title': 'Freelance Jobs | Upwork™', 'href': 'https://www.upwork.com/freelance-jobs/', 'body': 'Browse jobs posted on Upwork, or create a free profile to find the work that you love to do. Explore remote jobs in categories such as design, development, writing, marketing, legal, and more.'}, {'title': 'Fiverr | Freelance services marketplace | Find top global talent', 'href': 'https://www.fiverr.com/', 'body': 'Find the right freelance service for your project, budget and deadline on Fiverr. Browse popular services like logo design, website development, voice over, video animation and more.'}, {'title': 'Hire Freelancers & Find Freelance Jobs Online | Freelancer', 'href': 'https://www.freelancer.com/', 'body': \"Freelancer.com is the world's largest freelance marketplace, where you can post any job and get quotes from over 60 million professionals. Whether you need web design, app development, AI, or any other skill, you can find and hire freelancers easily and safely.\"}, {'title': \"Upwork | The World's Work Marketplace\", 'href': 'https://www.upwork.com/', 'body': 'Upwork is a platform where you can find and hire freelancers for various projects, or offer your skills to clients. Browse jobs by category, get advice from experts, or access the Enterprise Suite for hybrid workforce management.'}, {'title': 'Freelance Jobs and Projects | Freelancer', 'href': 'https://www.freelancer.com/job/', 'body': 'Find freelance work in various categories, such as websites, IT, writing, design, AI, and more. Browse thousands of projects and apply for the ones that match your skills and interests.'}]\n",
      "Searching the web for website testing\n",
      "Web search results for website testing: [{'title': 'WebPageTest - Website Performance and Optimization Test', 'href': 'https://www.webpagetest.org/', 'body': \"WebPageTest lets you measure your site's speed, carbon footprint, and user experience with various browser, location, and device options. You can also run Lighthouse audit, visual comparison test, and video capture to analyze your webpage components and performance.\"}, {'title': 'Website Testing: A Detailed Guide | LambdaTest', 'href': 'https://www.lambdatest.com/blog/website-testing/', 'body': 'Learn what website testing is, why it is necessary, and how to test a website using different methods and tools. Explore the challenges, trends, and best practices of web testing with examples and tips.'}, {'title': 'GTmetrix | Website Performance Testing and Monitoring', 'href': 'https://gtmetrix.com/', 'body': 'GTmetrix analyzes your page speed, performance, and optimization with Lighthouse and other tools. You can test your page on different devices, locations, and schedules, and get alerts and reports.'}, {'title': 'Website Testing: A Detailed Guide | BrowserStack', 'href': 'https://www.browserstack.com/guide/how-to-perform-website-qa-testing', 'body': 'Learn what website testing is, why it is important, and how to perform it with various types and tools. Find out how to test cross-browser, responsive, functionality, usability, and other aspects of your website.'}, {'title': 'Basics of Web Testing: A Complete Guide With Best Practices - LambdaTest', 'href': 'https://www.lambdatest.com/learning-hub/web-testing', 'body': 'Learn web testing from scratch with this comprehensive guide that covers the basics, importance, life cycle, and types of web applications and their test points. Find out how to test web functionality, usability, security, performance, and more with best practices and examples.'}]\n",
      "Searching the web for AI tools\n",
      "Web search results for AI tools: [{'title': \"15 Best AI Tools in 2024 (The Only List You'll Need) - VEED.IO\", 'href': 'https://www.veed.io/learn/best-ai-tools', 'body': 'Learn about the best AI tools for various tasks such as video and audio editing, content and copywriting, generating art and images, and coding. Compare features, pros and cons, and pricing of each tool and find the one that suits your needs.'}, {'title': 'OpenAI', 'href': 'https://openai.com/', 'body': 'OpenAI offers free access to ChatGPT, a conversational AI that can answer any question, generate text, code, images and more. OpenAI also develops and licenses powerful AI models for various applications and domains.'}, {'title': 'Free AI Tools - Easy With AI', 'href': 'https://easywithai.com/free-ai-tools/', 'body': 'Explore a variety of free AI tools for personal and commercial use, no payments or subscriptions required. From QR codes to music, from dreams to code, discover the power of AI with Easy With AI.'}, {'title': 'The 35 Best Artificial intelligence (AI) Tools To Know | Built In', 'href': 'https://builtin.com/artificial-intelligence/ai-tools', 'body': 'Learn about the top artificial intelligence tools for optimizing business and solving problems. This article covers various categories of AI tools, such as data analysis, machine learning, natural language processing and more.'}, {'title': 'Best AI tools of 2024 | TechRadar', 'href': 'https://www.techradar.com/best/best-ai-tools', 'body': '3. Google Gemini. (Image credit: Google Gemini) Google Gemini is a powerful AI tool that can handle various tasks, such as long context windows, multimodal understanding (which includes text ...'}]\n",
      "Searching the web for surveys\n",
      "Web search results for surveys: [{'title': \"SurveyMonkey: The World's Most Popular Free Online Survey Tool\", 'href': 'https://www.surveymonkey.com/', 'body': 'Create, send, and analyze surveys with SurveyMonkey, a global leader in survey software. Choose from hundreds of templates, toolkits, and features for different roles and industries.'}, {'title': 'Google Forms: Online Form Creator | Google Workspace', 'href': 'https://www.google.com/forms/about/', 'body': 'Easily create and share online forms and surveys, and analyze responses in real-time. Customize colors, images, and fonts, add collaborators, and access forms from any device with Google Forms.'}, {'title': '18 Best Places to Take Paid Online Surveys (Up to $50/hr) - DollarSprout', 'href': 'https://dollarsprout.com/paid-online-surveys/', 'body': 'Learn how to make money online by taking paid surveys on various platforms. Compare the features, ratings, payment methods, and earnings of 18 survey sites, including Branded Surveys, Swagbucks, and InboxDollars.'}, {'title': 'Microsoft Forms - Free tool to create online surveys, forms, polls, and ...', 'href': 'https://forms.microsoft.com/', 'body': 'Microsoft Forms is a web-based application that allows you to create and share online surveys, quizzes, polls, and forms. You can design your forms with various question types, themes, and branching logic, and analyze your results with built-in charts and reports.'}, {'title': 'Google Forms: Online Form Builder for Business | Google Workspace', 'href': 'https://workspace.google.com/products/forms/', 'body': 'Google Forms is a powerful online tool for creating and sharing surveys, questionnaires, quizzes, and more. With Google Forms, you can easily design custom forms, collect responses, and analyze data. Google Forms is part of Google Workspace, a suite of cloud-based productivity apps for work and collaboration. Learn how to use Google Forms and get started today.'}]\n",
      "Searching the web for micro-tasks\n",
      "Web search results for micro-tasks: [{'title': '20 Best Places to Find Small Task or Micro Jobs - DollarSprout', 'href': 'https://dollarsprout.com/micro-jobs/', 'body': '3. Freecash. Freecash.com is an flexible platform for earning extra money through micro tasks. By creating a free account, users can test game apps, complete surveys, and engage in various offers, earning points that can be redeemed for cash via PayPal, cryptocurrency, or gift cards.'}, {'title': '20 Best Micro Task Websites & Jobs (High-Paying List!) - This Online World', 'href': 'https://www.webmonkey.com/micro-task-websites/', 'body': 'Zeerk brands itself as a micro job and freelance portal where you can offer or browse gigs ranging from $3 to $200. In other words, Zeerk is an alternative to Fiverr that focuses on micro tasks. This is the platform where people buy likes, followers, upvotes, social media accounts, and other semi-questionable online transactions.'}, {'title': 'Hive Micro', 'href': 'https://hivemicro.com/', 'body': 'Do you want to earn extra money by doing simple tasks online? Join Hive Micro, a platform that connects you with micro jobs that suit your skills and preferences. You can work from anywhere in the world at any time and get paid quickly and securely. Visit https://hivemicro.com and start your journey today.'}, {'title': '20+ Microtask Websites That Pay You for Doing Micro Jobs - Vital Dollar', 'href': 'https://vitaldollar.com/microtask-websites/', 'body': \"5. InboxDollars ($5 bonus). Like Survey Junkie and Swagbucks, InboxDollars is another GPT or micro task platform (Swagbucks and InboxDollars are owned by the same parent company).You'll be paid cash for performing normal online activities or simple tasks. You can earn by taking surveys, reading emails, watching videos, playing games, and other micro jobs.\"}, {'title': 'Templates | Microworkers - work & earn or offer a micro job', 'href': 'https://www.microworkers.com/', 'body': 'Crowdsource your Micro Jobs to more than 3,912,188 Workers worldwide, Completing 147,055,596 Tasks Get Started Right Away with Easy-to-Customize Templates Create and Use Template for campaign Clone Template Edit/Update Template ... Applicable also for campaigns requiring comparison tasks. Close Login REGISTER.'}]\n",
      "Searching the web for pet sitting\n",
      "Web search results for pet sitting: [{'title': 'Rover.com: Book Dog Boarding, Dog Walking and More', 'href': 'https://www.rover.com/', 'body': 'Rover.com connects you with trusted sitters and dog walkers who offer various services for your pets, such as boarding, house sitting, doggy day care, and more. You can search, book, and pay securely through the website or app, and enjoy 24/7 support and the Rover Guarantee.'}, {'title': 'Pet Sitting Near Me: Find The Best Pet Sitters | Rover.com', 'href': 'https://www.rover.com/pet-sitting/', 'body': \"Connect with background-checked pet sitters in your neighborhood who offer drop-in visits to feed and check on your pets. Book and pay through Rover's secured platform and enjoy the Rover Guarantee, reservation protection, and world-class support.\"}, {'title': 'Find Trusted Professional Pet Sitters | PetSitter.com', 'href': 'https://petsitter.com/', 'body': 'PetSitter.com helps you find local pet sitters for your furry, feathered, or scaley friends. Whether you need a quick walk, a long-term boarding, or anything in between, you can browse, compare, and hire the best pet sitter for your needs.'}, {'title': 'In Home Pet Sitters | Pet Sitting Services - Petworks', 'href': 'https://www.petworks.com/hire/pet-sitting', 'body': 'Find trusted and certified pet sitters for your dogs and cats in your area. Petworks offers personalized, affordable, and reliable in home pet sitting services with reviews, rates, and free quotes.'}, {'title': 'The Best Dog Sitters Near You | Wag!', 'href': 'https://wagwalking.com/dog-sitting', 'body': \"Book with a highly-rated pet sitter who will care for your pets in your home when you're out of town. Whether it's just for the weekend, date night, or several weeks, local dog sitters and pet care givers on Wag! are available to help. The Wag! app is great for times I can't get home to walk Rafa. The walkers leave a nice recap of my dog's ...\"}]\n",
      "Searching the web for blogging\n",
      "Web search results for blogging: [{'title': 'Blogger.com - Create a unique and beautiful blog easily.', 'href': 'https://www.blogger.com/about/?r=1-null_user', 'body': 'Blogger.com lets you publish your passions, your way, with a selection of templates, domains, and analytics. You can also earn money by displaying relevant ads on your blog with Google AdSense.'}, {'title': 'How to start a blog in 10 steps: a beginners guide - Wix.com', 'href': 'https://www.wix.com/blog/how-to-start-a-blog', 'body': 'Learn how to create a blog, choose a niche, write your first post and promote your content with this comprehensive tutorial. Wix offers a user-friendly platform, templates and features to help you launch your blog fast and easily.'}, {'title': 'How to Start a Blog: 12 Super Simple Steps for Beginners (2024)', 'href': 'https://smartblogger.com/how-to-start-a-blog/', 'body': \"Learn how to choose a profitable blog topic, pick a platform, set up WordPress, design your blog, and more. Smart Blogger is one of the world's biggest websites about writing and blogging, with over 4 million readers and thousands of success stories.\"}, {'title': 'What is Blogging? Easy Blogging Guide for Beginners in 2024 - DigitalGYD', 'href': 'https://www.digitalgyd.com/blogging/', 'body': 'Learn the basics of blogging and how to create and scale a successful blog. Find out what is a blog, how to choose a niche, how to optimize for SEO, how to monetize and more.'}, {'title': 'How To Start A Blog And Make Money In 2024 - Forbes Advisor', 'href': 'https://www.forbes.com/advisor/business/start-a-blog/', 'body': 'Learn how to create a blog that suits your goals and interests, whether you want to document, share, connect, or earn. Follow 12 steps to start a blog, from choosing a topic to monetizing your content.'}]\n",
      "Searching the web for e-commerce\n",
      "Web search results for e-commerce: [{'title': 'What Is Ecommerce? The Complete Guide To Online Selling - Shopify', 'href': 'https://www.shopify.com/blog/what-is-ecommerce', 'body': 'Learn the basics of ecommerce, how it works, types of ecommerce models, online shopping trends, and benefits of selling online. Explore how to start an ecommerce business and launch your own big idea with Shopify.'}, {'title': 'What Is E-Commerce? Definition, Types & Getting Started - Forbes', 'href': 'https://www.forbes.com/advisor/business/what-is-ecommerce/', 'body': 'Learn the basics of e-commerce, the online exchange of goods and services over the internet. Find out the advantages, disadvantages, types and examples of e-commerce, and how to start your own e-commerce business.'}, {'title': 'E-commerce Defined: Types, History, and Examples - Investopedia', 'href': 'https://www.investopedia.com/terms/e/ecommerce.asp', 'body': 'Learn what e-commerce is, how it works, and why it is important for businesses and consumers. Explore the different types of e-commerce, such as business-to-business, business-to-consumer, consumer-to-consumer, and consumer-to-business.'}, {'title': 'E-commerce - Wikipedia', 'href': 'https://en.wikipedia.org/wiki/E-commerce', 'body': 'E-commerce ( electronic commerce) is the activity of electronically buying or selling products on online services or over the Internet. E-commerce draws on technologies such as mobile commerce, electronic funds transfer, supply chain management, Internet marketing, online transaction processing, electronic data interchange (EDI), inventory ...'}, {'title': 'What Is Ecommerce? [Definition, How to, & More]', 'href': 'https://www.ecommerceceo.com/learn/what-is-ecommerce/', 'body': \"Learn what ecommerce is, how it works, and why it's a popular sales method. Find out the different types of ecommerce business models, examples of successful online stores, and what you need to start your own ecommerce website.\"}]\n",
      "('1. STEP: 1; ACTION: Search for ways to make money from home; ACCEPTANCE: '\n",
      " 'Methods found and confirmed to make money.\\n'\n",
      " '2. STEP: 2; ACTION: Rent out a room; ACCEPTANCE: Room listed on at least 3 '\n",
      " 'apps/websites.\\n'\n",
      " '3. STEP: 3; ACTION: Become an online tutor; ACCEPTANCE: Registered with 2 '\n",
      " 'tutoring websites. \\n'\n",
      " '4. STEP: 4; ACTION: Start freelance writing; ACCEPTANCE: Registered with 2 '\n",
      " 'freelance writing websites.\\n'\n",
      " '5. STEP: 5; ACTION: Explore freelance work; ACCEPTANCE: Applied for 3 '\n",
      " 'freelance jobs.\\n'\n",
      " '6. STEP: 6; ACTION: Do website testing; ACCEPTANCE: Tested 2 websites. \\n'\n",
      " '7. STEP: 7; ACTION: Look into AI tools; ACCEPTANCE: Downloaded 2 AI tools.\\n'\n",
      " '8. STEP: 8; ACTION: Complete surveys; ACCEPTANCE: Signed up for 3 survey '\n",
      " 'websites.\\n'\n",
      " '9. STEP: 9; ACTION: Search for micro-tasks; ACCEPTANCE: Found 3 websites '\n",
      " 'with micro-tasks.\\n'\n",
      " '10. STEP: 10; ACTION: Become a pet sitter; ACCEPTANCE: Registered with 2 pet '\n",
      " 'sitting websites.\\n'\n",
      " '11. STEP: 11; ACTION: Start a blog; ACCEPTANCE: Blog live with 2 posts.\\n'\n",
      " '12. STEP: 12; ACTION: Set up an e-commerce business; ACCEPTANCE: Products '\n",
      " 'listed online and business registered.')\n"
     ]
    }
   ],
   "source": [
    "while res.tool_calls:\n",
    "    tool_results = []\n",
    "    for call in res.tool_calls:\n",
    "        tool_result = invoke_tool(call)\n",
    "        tool_results.append({\n",
    "            \"call\": {\"name\": call.name, \"parameters\": call.parameters},\n",
    "            \"outputs\": tool_result\n",
    "        })\n",
    "    \n",
    "    res = co.chat(\n",
    "        model=\"command-r\",\n",
    "        preamble=PREAMBLE,\n",
    "        chat_history=res.chat_history,\n",
    "        message=\"\",\n",
    "        force_single_step=False,\n",
    "        tools=tools,\n",
    "        tool_results=tool_results,\n",
    "    )\n",
    "    \n",
    "    steps.append({\n",
    "        \"text\": res.text,\n",
    "        \"tool_calls\": [{\"name\": call.name, \"parameters\": call.parameters} for call in (res.tool_calls or [])],\n",
    "        \"tool_results\": tool_results\n",
    "    })\n",
    "\n",
    "last_step = steps[-1]\n",
    "pp.pprint(res.text)"
   ]
  },
  {
   "cell_type": "code",
   "execution_count": 19,
   "metadata": {},
   "outputs": [
    {
     "name": "stdout",
     "output_type": "stream",
     "text": [
      "['1. STEP: 1; ACTION: Search for ways to make money from home; ACCEPTANCE: Methods found and confirmed to make money.', '2. STEP: 2; ACTION: Rent out a room; ACCEPTANCE: Room listed on at least 3 apps/websites.', '3. STEP: 3; ACTION: Become an online tutor; ACCEPTANCE: Registered with 2 tutoring websites. ', '4. STEP: 4; ACTION: Start freelance writing; ACCEPTANCE: Registered with 2 freelance writing websites.', '5. STEP: 5; ACTION: Explore freelance work; ACCEPTANCE: Applied for 3 freelance jobs.', '6. STEP: 6; ACTION: Do website testing; ACCEPTANCE: Tested 2 websites. ', '7. STEP: 7; ACTION: Look into AI tools; ACCEPTANCE: Downloaded 2 AI tools.', '8. STEP: 8; ACTION: Complete surveys; ACCEPTANCE: Signed up for 3 survey websites.', '9. STEP: 9; ACTION: Search for micro-tasks; ACCEPTANCE: Found 3 websites with micro-tasks.', '10. STEP: 10; ACTION: Become a pet sitter; ACCEPTANCE: Registered with 2 pet sitting websites.', '11. STEP: 11; ACTION: Start a blog; ACCEPTANCE: Blog live with 2 posts.', '12. STEP: 12; ACTION: Set up an e-commerce business; ACCEPTANCE: Products listed online and business registered.']\n"
     ]
    }
   ],
   "source": [
    "import re\n",
    "parsed = res.text.split(\"\\n\")\n",
    "parsed = list(filter(lambda x: x != \"\", parsed))\n",
    "parsed = list(filter(lambda x: re.match(r\"^\\d+.\", x), parsed))\n",
    "print(parsed)\n"
   ]
  },
  {
   "cell_type": "code",
   "execution_count": 20,
   "metadata": {},
   "outputs": [
    {
     "name": "stdout",
     "output_type": "stream",
     "text": [
      "['1. STEP: 1', ' ACTION: Search for ways to make money from home', ' ACCEPTANCE: Methods found and confirmed to make money.']\n",
      "1. STEP: 1; ACTION: Search for ways to make money from home; ACCEPTANCE: Methods found and confirmed to make money.\n"
     ]
    }
   ],
   "source": [
    "step = parsed[0]\n",
    "print(step.split(\";\"))\n",
    "_, action, acceptance = step.split(\";\")\n",
    "print(step)"
   ]
  }
 ],
 "metadata": {
  "kernelspec": {
   "display_name": "trippy-agent-3BJm9MKc-py3.12",
   "language": "python",
   "name": "python3"
  },
  "language_info": {
   "codemirror_mode": {
    "name": "ipython",
    "version": 3
   },
   "file_extension": ".py",
   "mimetype": "text/x-python",
   "name": "python",
   "nbconvert_exporter": "python",
   "pygments_lexer": "ipython3",
   "version": "3.12.3"
  }
 },
 "nbformat": 4,
 "nbformat_minor": 2
}
