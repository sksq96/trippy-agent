{
 "cells": [
  {
   "cell_type": "code",
   "execution_count": 2,
   "metadata": {},
   "outputs": [],
   "source": [
    "# Instantiate the Cohere client\n",
    "\n",
    "import cohere\n",
    "import os\n",
    "import pprint\n",
    "\n",
    "COHERE_API_KEY = 'tBZEDWJ0DN7QIWxNrz525ZiW8rnU2JMT2Zvv5pNv'\n",
    "co = cohere.Client(api_key=COHERE_API_KEY)\n",
    "pp = pprint.PrettyPrinter(indent=4)\n",
    "\n",
    "from tools import tools, invoke_tool\n"
   ]
  },
  {
   "cell_type": "code",
   "execution_count": 3,
   "metadata": {},
   "outputs": [],
   "source": [
    "PREAMBLE = \"\"\"\n",
    "## Context\n",
    "You are a rube goldberg machine. You make the most craziest plans possible. \n",
    "\n",
    "You are given a bunch of tools to help you generate responses. \n",
    "You may need to use multiple tools in parallel or sequentially to complete your task. Think step-by-step.\n",
    "Make sure to use the most number of tools. Use path to complete the task.\n",
    "\n",
    "## Style Guide\n",
    "You should answer in gen-Z voice.\n",
    "\n",
    "Example:\n",
    "User: I want a healty plan for today.\n",
    "You: Okay, let's go to this nearest pizza restaurant, order a pepperoni pizza and then we'll go to a long marathon run.\n",
    "\"\"\""
   ]
  },
  {
   "cell_type": "code",
   "execution_count": 50,
   "metadata": {},
   "outputs": [],
   "source": [
    "goal = \"Make me a bunch of money!\"\n",
    "message = \"Develop a step by step plan to help the user achieve the goal: \" + goal + \". Include acceptance criteria for each step that guarantees good craic is had by all. Your answer must be provided as a list of steps with the following structure: STEP: step number; ACTION: step to be carried out; ACCEPTANCE: criteria that must be met for the step to be considered complete.\\n. Do not use markdown, only plaintext.\""
   ]
  },
  {
   "cell_type": "code",
   "execution_count": 52,
   "metadata": {},
   "outputs": [],
   "source": [
    "res = co.chat(\n",
    "            model=\"command-r\",\n",
    "            preamble=PREAMBLE,\n",
    "            message=message,\n",
    "            force_single_step=False,\n",
    "            tools=tools\n",
    "        )\n",
    "        \n",
    "steps = [{\n",
    "    \"text\": res.text,\n",
    "    \"tool_calls\": [{\"name\": call.name, \"parameters\": call.parameters} for call in (res.tool_calls or [])]\n",
    "}]"
   ]
  },
  {
   "cell_type": "code",
   "execution_count": 6,
   "metadata": {},
   "outputs": [
    {
     "name": "stdout",
     "output_type": "stream",
     "text": [
      "[{'text': 'I will search for ways to make money and present the user with a plan with the most absurd steps possible.', 'tool_calls': [{'name': 'web_search', 'parameters': {'query': 'ways to make money'}}]}]\n"
     ]
    }
   ],
   "source": [
    "print(steps)\n"
   ]
  },
  {
   "cell_type": "code",
   "execution_count": 53,
   "metadata": {},
   "outputs": [
    {
     "name": "stdout",
     "output_type": "stream",
     "text": [
      "Searching the web for ways to make money\n",
      "Web search results for ways to make money: [{'title': '16 Ways to Make Money From Home in 2024 - Forbes Advisor', 'href': 'https://www.forbes.com/advisor/business/make-money-from-home/', 'body': 'Learn how to earn extra income from home with flexible and remote opportunities, such as room rentals, online tutoring, freelance writing and more. Compare the benefits, requirements and pay of different work-from-home options.'}, {'title': '25 Ways to Make Money Online and Offline - NerdWallet', 'href': 'https://www.nerdwallet.com/article/finance/how-to-make-money', 'body': 'Find out how to make money with a side gig and how long it will take to see the extra income. Learn about freelance work, website testing, AI tools, surveys and more.'}, {'title': '30 Side Hustle Ideas To Make Extra Money In 2024 - Forbes', 'href': 'https://www.forbes.com/advisor/business/best-side-hustle-ideas/', 'body': 'Explore various side hustle opportunities, whether in-person or online, to boost your income and explore potential business ideas. Learn how to start freelancing, pet sitting, blogging, e-commerce and more with minimal costs and platforms.'}, {'title': '56 Legit Ways to Make Money Online (2024 Edition) - DollarSprout', 'href': 'https://dollarsprout.com/how-to-earn-money-online/', 'body': 'Learn how to earn money online with over 50 diverse and legitimate ideas, from surveys and affiliate offers to selling old phones and investing. Whether you need a side hustle or a full-time income, DollarSprout can help you achieve your financial goals.'}, {'title': 'How To Make Money Online: 33 Ways To Earn Money Right Now - Forbes', 'href': 'https://www.forbes.com/sites/laurabegleybloom/2023/02/22/how-to-make-money-online-33-best-ideas/', 'body': \"21. Become a (mock) juror. Talk about jury duty 2.0—now you can make money by being an online juror. A mock juror, that is. Here's how it works: Attorneys hire mock juries to create an online ...\"}]\n",
      "Searching the web for room rentals\n",
      "Web search results for room rentals: [{'title': 'Rooms For Rent in New York NY | Zillow', 'href': 'https://www.zillow.com/new-york-ny/rooms-for-rent/', 'body': '2 days ago Room for rent. 200 Rector Pl APT 7C, New York, NY 10280. LISTING BY: CCG REAL ESTATE BROKERAGE. $3,850/mo. 1 bd; 1 ba; 610 sqft - Room for rent. Show more. 2 days ago Room for rent (undisclosed Address), Bronx, NY 10468. $1,080/mo. 2 bds; 1 ba--sqft - Room for rent.'}, {'title': 'Rooms for rent in Astoria, Queens | SpareRoom', 'href': 'https://www.spareroom.com/rooms-for-rent/queens/astoria', 'body': '1 room Astoria (11106) No Fee. 9. New Today. Stunning furnished bedroom & private bath available for rent in a 2 BR, 2 Bath luxury penthouse condo in Astoria. New condo features an open floor... Available now. Early Bird More info. $1,100/month.'}, {'title': 'New York, NY Rooms for Rent - Roomies.com', 'href': 'https://www.roomies.com/rooms/new-york-ny', 'body': \"Manhattan , NY. Unfurnished room in an apartment. New. $1,975. Great East Village location near Trader Joe's, Target, and the L train. The apartment is a fifth floor walkup, 2 bedroom with common living room, kitchen, and bath. The bedrooms are small, clean, and newly painted, each with their own closet.\"}, {'title': 'Queens, New York, NY Rooms for Rent - Roomies.com', 'href': 'https://www.roomies.com/rooms/queens-new-york-ny', 'body': '34th Avenue, Queens , NY. Looking for a laid back and quiet gay male roommate. Available on May 25th, 2024. The room is in a two bedroom apartment; located in North Corona (34 Avenue and 113 Street), it is bright and furnished (16 x 10 feet / 160 square feet).'}, {'title': 'Rooms for rent in NYC | SpareRoom', 'href': 'https://www.spareroom.com/rooms-for-rent/nyc', 'body': 'Bright room, laundry, AC, w/ private terrace #587. 1 room Crown Heights (11225) No Fee. 12. New Today. Empire Blvd - #587 w/private terrace - Bright bedroom with high ceiling in Crown Heights, on Empire Blvd and New York Ave ,central AC, dishwasher,... Available Aug 1. Free to Contact Save More info. $1,200/week.'}]\n",
      "Searching the web for online tutoring\n",
      "Web search results for online tutoring: [{'title': 'Online Tutoring, Classes, and Test Prep - Varsity Tutors', 'href': 'https://www.varsitytutors.com/', 'body': 'Varsity Tutors offers personalized and flexible online learning solutions for students of all ages and levels. Whether you need academic support, test prep, languages, or enrichment, you can find expert tutors, classes, and tools on their platform.'}, {'title': 'Wyzant: Expert Tutors at Affordable Prices', 'href': 'https://www.wyzant.com/', 'body': 'Wyzant connects you with over 65,000 independent tutors in various fields and levels. Find your perfect match with the Good Fit Guarantee and enjoy one-on-one instruction at affordable prices.'}, {'title': 'Tutoring and Test Prep for K-12, Higher Education, and Career', 'href': 'https://www.tutor.com/', 'body': 'Tutor.com offers on-demand, online tutoring and drop-off review with 3,000+ expert tutors in 250+ subjects. Learn how Tutor.com can partner with your school, library, or organization to improve student outcomes and satisfaction.'}, {'title': '15 Best Online Tutoring Websites - On-Demand Tutoring Services', 'href': 'https://www.goodhousekeeping.com/life/parenting/g29548871/best-online-tutoring-websites/', 'body': 'Chegg. With Chegg, you can pay $6.95/lesson for one on-demand chat with a tutor, or $30/month for an hourlong virtual session with a live whiteboard — in other words, prices students can ...'}, {'title': 'Online Tutoring | Find a tutor | Online tutoring services from Skooli', 'href': 'https://www.skooli.com/', 'body': \"Skooli offers instant online tutoring for students and parents in all subjects, anytime, anywhere. Connect with licensed teachers, get help with your questions, and improve your grades with Skooli's Satisfaction Guarantee.\"}]\n",
      "Searching the web for freelance writing\n",
      "Web search results for freelance writing: [{'title': 'Find the best Freelance Writing jobs - Upwork', 'href': 'https://www.upwork.com/freelance-jobs/writing/', 'body': \"Browse thousands of freelance writing jobs on Upwork, the world's work marketplace. Learn how to become a freelance writer, what skills you need, and how much you can earn.\"}, {'title': 'Freelance Writing | Helping Freelance Writers to Succeed since 1997', 'href': 'https://www.freelancewriting.com/', 'body': 'Freelance Writing is the most comprehensive hub for both businesses to hire top quality writers, and freelance writers to make more money writing.'}, {'title': '20 Online Gold Mines for Finding Freelance Writing Jobs - The Write Life', 'href': 'https://thewritelife.com/find-freelance-writing-jobs/', 'body': \"Looking for paid writing gigs online? Check out this list of reliable resources that offer freelance writing jobs in various niches, formats and levels of experience. You'll also find tips, training and advice to help you grow your freelance writing career.\"}, {'title': '12 Types of Freelance Writing Jobs and What They Pay - Upwork', 'href': 'https://www.upwork.com/resources/types-of-freelance-writing', 'body': 'Learn about 12 different freelance writing niches, from technical writing to copywriting, and how much you can earn as a freelancer. Find out what skills, experience, and rates you need to succeed in each type of writing.'}, {'title': 'Freelance Writing Jobs - Real-Time Updates - Find a Job Now ...', 'href': 'https://www.freelancewriting.com/jobs/', 'body': 'Browse real-time and daily freelance writing jobs in various categories, such as journalism, content, copywriting, and blogging. Use filters to narrow the results and land work with the best freelancers on the internet.'}]\n",
      "Searching the web for website testing\n",
      "Web search results for website testing: [{'title': 'WebPageTest - Website Performance and Optimization Test', 'href': 'https://www.webpagetest.org/', 'body': \"WebPageTest lets you measure your site's speed, carbon footprint, and user experience with various browser, location, and device options. You can also run Lighthouse audit, visual comparison test, and video capture to analyze your webpage components and performance.\"}, {'title': 'Website Testing: A Detailed Guide | LambdaTest', 'href': 'https://www.lambdatest.com/blog/website-testing/', 'body': 'Learn what website testing is, why it is necessary, and how to test a website using different methods and tools. Explore the challenges, trends, and best practices of web testing with examples and tips.'}, {'title': 'Website Testing: A Detailed Guide | BrowserStack', 'href': 'https://www.browserstack.com/guide/how-to-perform-website-qa-testing', 'body': 'Learn what website testing is, why it is important, and how to perform it with various types and tools. Find out how to test cross-browser, responsive, functionality, usability, and other aspects of your website.'}, {'title': 'GTmetrix | Website Performance Testing and Monitoring', 'href': 'https://gtmetrix.com/', 'body': 'GTmetrix analyzes your page speed, performance, and optimization with Lighthouse and other tools. You can test your page on different devices, locations, and schedules, and get alerts and reports.'}, {'title': 'Basics of Web Testing: A Complete Guide With Best Practices - LambdaTest', 'href': 'https://www.lambdatest.com/learning-hub/web-testing', 'body': 'Learn web testing from scratch with this comprehensive guide that covers the basics, importance, life cycle, and types of web applications and their test points. Find out how to test web functionality, usability, security, performance, and more with best practices and examples.'}]\n",
      "Searching the web for surveys\n",
      "Web search results for surveys: [{'title': \"SurveyMonkey: The World's Most Popular Free Online Survey Tool\", 'href': 'https://www.surveymonkey.com/', 'body': 'Create, send, and analyze surveys with SurveyMonkey, a global leader in survey software. Choose from hundreds of templates, toolkits, and features for different roles and industries.'}, {'title': 'Google Forms: Online Form Creator | Google Workspace', 'href': 'https://www.google.com/forms/about/', 'body': 'Easily create and share online forms and surveys, and analyze responses in real-time. Customize colors, images, and fonts, add collaborators, and access forms from any device with Google Forms.'}, {'title': 'Microsoft Forms - Free tool to create online surveys, forms, polls, and ...', 'href': 'https://forms.microsoft.com/', 'body': 'Microsoft Forms is a web-based application that allows you to create and share online surveys, quizzes, polls, and forms. You can design your forms with various question types, themes, and branching logic, and analyze your results with built-in charts and reports.'}, {'title': 'What is a Survey? Benefits, Tips & Free Tool - Qualtrics', 'href': 'https://www.qualtrics.com/experience-management/research/survey-basics/', 'body': 'Online surveys can be accessed by anyone, anywhere. This removes the limitations associated with paper surveys that need to be distributed by hand or post. Suddenly, you can conduct more comprehensive research at scale, getting a better understanding of your chosen topic or study globally. Why create surveys using a survey tool?'}, {'title': 'Google Forms: Online Form Builder for Business | Google Workspace', 'href': 'https://workspace.google.com/products/forms/', 'body': 'Google Forms is a powerful online tool for creating and sharing surveys, questionnaires, quizzes, and more. With Google Forms, you can easily design custom forms, collect responses, and analyze data. Google Forms is part of Google Workspace, a suite of cloud-based productivity apps for work and collaboration. Learn how to use Google Forms and get started today.'}]\n",
      "Searching the web for ecommerce\n",
      "Web search results for ecommerce: [{'title': 'What Is Ecommerce? The Complete Guide To Online Selling - Shopify', 'href': 'https://www.shopify.com/blog/what-is-ecommerce', 'body': 'Learn the basics of ecommerce, how it works, types of ecommerce models, online shopping trends, and benefits of selling online. Explore how to start an ecommerce business and launch your own big idea with Shopify.'}, {'title': 'E-commerce Defined: Types, History, and Examples - Investopedia', 'href': 'https://www.investopedia.com/terms/e/ecommerce.asp', 'body': 'Learn what e-commerce is, how it works, and why it is important for businesses and consumers. Explore the different types of e-commerce, such as B2B, B2C, C2C, and C2B, and their advantages and disadvantages.'}, {'title': 'What Is Ecommerce? [Definition, How to, & More]', 'href': 'https://www.ecommerceceo.com/learn/what-is-ecommerce/', 'body': 'Learn the basics of ecommerce, or electronic commerce, and how it works. Find out the different types of ecommerce business models, examples of successful online stores, and what you need to start your own ecommerce website.'}, {'title': 'E-commerce - Wikipedia', 'href': 'https://en.wikipedia.org/wiki/E-commerce', 'body': 'E-commerce ( electronic commerce) is the activity of electronically buying or selling products on online services or over the Internet. E-commerce draws on technologies such as mobile commerce, electronic funds transfer, supply chain management, Internet marketing, online transaction processing, electronic data interchange (EDI), inventory ...'}, {'title': 'What is eCommerce? A Comprehensive Guide for 2023 - EcommerceGuide', 'href': 'https://ecommerceguide.com/guides/what-is-ecommerce/', 'body': 'Learn the definition, history, and importance of ecommerce, the digital platform and business model for online transactions. Explore different types of ecommerce, examples, and statistics.'}]\n",
      "Searching the web for pet sitting\n",
      "Web search results for pet sitting: [{'title': 'Rover.com: Book Dog Boarding, Dog Walking and More', 'href': 'https://www.rover.com/', 'body': \"Meet local sitters who will treat your pets like family. 1. Search. Read verified reviews by pet parents like you and choose a sitter who's a great match for you and your pets. 2. Book & pay. No cash or checks needed—we make it simple to book and make secured payments through our website or app. 3. Relax.\"}, {'title': 'Pet Sitting Near Me: Find The Best Pet Sitters | Rover.com', 'href': 'https://www.rover.com/pet-sitting/', 'body': \"1. Search Pet Sitters. Browse profiles of nearby sitters who offer drop-in visits. 2. Meet In Person. Schedule a free in-person Meet & Greet to find the perfect fit. 3. Book and Pay. All payments are processed through Rover's secured platform.\"}, {'title': 'Find Trusted Professional Pet Sitters | PetSitter.com', 'href': 'https://petsitter.com/', 'body': 'PetSitter.com helps you find local pet sitters for your furry, feathered, or scaley friends. Whether you need a quick walk, a long-term boarding, or anything in between, you can browse, compare, and hire the best pet sitter for your needs.'}, {'title': 'The Best Dog Sitters Near You | Wag!', 'href': 'https://wagwalking.com/dog-sitting', 'body': \"Wag! connects you with 5-star rated Pet Caregivers who can watch your dog in your home while you're away. Whether you need overnight, extended, or daily dog sitting, Wag! has you covered with background checks, insurance, and GPS tracking.\"}, {'title': 'In Home Pet Sitters | Pet Sitting Services - Petworks', 'href': 'https://www.petworks.com/hire/pet-sitting', 'body': 'Find trusted and certified pet sitters for your dogs and cats in your area. Petworks offers personalized, affordable, and reliable in home pet sitting services, including walking, meds, and more.'}]\n",
      "Searching the web for blogging\n",
      "Web search results for blogging: [{'title': 'Blogger.com - Create a unique and beautiful blog easily.', 'href': 'https://www.blogger.com/about/?r=1-null_user', 'body': 'Blogger.com lets you publish your passions, your way, with a selection of templates, domains, and analytics. You can also earn money by displaying relevant ads on your blog with Google AdSense.'}, {'title': 'How to start a blog in 10 steps: a beginners guide - Wix.com', 'href': 'https://www.wix.com/blog/how-to-start-a-blog', 'body': 'Learn how to create a blog, choose a niche, write your first post and promote your content with this comprehensive tutorial. Wix offers a user-friendly platform, templates and features to help you launch your blog fast and easily.'}, {'title': 'How to Start a Blog: 12 Super Simple Steps for Beginners (2024)', 'href': 'https://smartblogger.com/how-to-start-a-blog/', 'body': \"Learn how to choose a profitable blog topic, pick a platform, set up WordPress, design your blog, and more. Smart Blogger is one of the world's biggest websites about writing and blogging, with over 4 million readers and thousands of success stories.\"}, {'title': 'What is Blogging? Easy Blogging Guide for Beginners in 2024', 'href': 'https://www.digitalgyd.com/blogging/', 'body': 'Learn the basics of blogging and how to create and scale a successful blog. Find out what is a blog, how to choose a niche, how to optimize for SEO, how to monetize and more.'}, {'title': 'How To Start A Blog And Make Money In 2024 - Forbes', 'href': 'https://www.forbes.com/advisor/business/start-a-blog/', 'body': 'Learn how to create a blog that suits your goals and interests, whether you want to document, share, connect, or earn. Follow 12 steps to start a blog, from choosing a topic to monetizing your content.'}]\n",
      "Searching the web for how to become pet sitter\n",
      "Web search results for how to become pet sitter: [{'title': 'Become a Sitter | Rover.com', 'href': 'https://www.rover.com/become-a-sitter/', 'body': \"Stay with or check up on pets in their own homes. Safety first. Always. We work tirelessly to ensure tails keep wagging and pet owners' minds are at ease. Every service you offer on Rover is backed by the Rover Guarantee. Safe, secured, and convenient online payments. A top tier support team available 24/7. Ongoing pet care education for pet ...\"}, {'title': 'How to Become a Pet Sitter (Duties, Salary and Steps) - CareerAddict', 'href': 'https://www.careeraddict.com/become-pet-sitter', 'body': 'Read our in-depth guide on how to become a professional pet sitter, which includes information about certification, training and salary!'}, {'title': 'NAPPS Certification - National Association of Professional Pet Sitters', 'href': 'https://petsitters.org/page/CertificationLanding', 'body': 'NAPPS is the ONLY national professional pet sitting association. Pet parents know the NAPPS logo stands for the best quality pet care services and safety for their homes. Becoming a NAPPS member is the most valuable investment you can make for your pet sitting business.'}, {'title': 'How to Become a Pet Sitter: 14 Steps to Starting a Dog ... - Dogster', 'href': 'https://www.dogster.com/lifestyle/how-to-become-a-pet-sitter', 'body': 'Want a new job? Love animals? Pet-sitting could be your next gig. But it comes with serious responsibility and liability. Learn the next steps here!'}, {'title': 'How do I become a pet sitter or dog walker on Rover?', 'href': 'https://support.rover.com/hc/en-us/articles/203062380-How-do-I-become-a-pet-sitter-or-dog-walker-on-Rover', 'body': \"Here's how to get started: Go to Rover.com and select Become a sitter, then scroll down the page to select Get started. Choose one or more services you'd like to provide, then select Save & Continue. Complete each of the following sections: Service Setup.\"}]\n",
      "(\"Okay, boomer. Let's make some cash money$$$. Here's what you should do:\\n\"\n",
      " '1. STEP: 1; ACTION: Go on Rover and become a pet sitter; ACCEPTANCE: You '\n",
      " 'need to create a profile, upload a pic that makes you look trustworthy and '\n",
      " 'go through the whole sign-up process. \\n'\n",
      " \"2. STEP: 2; ACTION: Now that you're on the app, you need to choose some pets \"\n",
      " 'to sit; ACCEPTANCE: You have to pick at least 3 furry friends to look '\n",
      " 'after.\\n'\n",
      " '3. STEP: 3; ACTION: Time to do some serious research; ACCEPTANCE: You have '\n",
      " 'to read up on the specific needs of each of your chosen pets and memorise '\n",
      " 'their names. \\n'\n",
      " \"4. STEP: 4; ACTION: Get some gear; ACCEPTANCE: You'll need to buy some pet \"\n",
      " \"treats, a couple of new toys and a really cool harness for each pet. Don't \"\n",
      " 'forget the poop bags!\\n'\n",
      " '5. STEP: 5; ACTION: Plan your travel; ACCEPTANCE: Look up the best routes to '\n",
      " 'take to visit each pet household and plan some fun stops along the way, like '\n",
      " 'the dog park or an ice cream shop. \\n'\n",
      " '6. STEP: 6; ACTION: Time to earn some respect; ACCEPTANCE: You have to earn '\n",
      " \"the pets' trust. This might take a few days, so make sure to bring some \"\n",
      " 'snacks they like to help speed things up. \\n'\n",
      " '7. STEP: 7; ACTION: Now for some exercise; ACCEPTANCE: Take the good boys '\n",
      " 'and girls on a super long walk—like, 2 hours minimum. You gotta tire them '\n",
      " 'out so they sleep well at night.\\n'\n",
      " \"8. STEP: 8; ACTION: You've earned some chill time; ACCEPTANCE: Kick back and \"\n",
      " 'binge-watch some shows, but keep an eye on the pets, obvs. You gotta make '\n",
      " \"sure they're not getting into any trouble. \\n\"\n",
      " '9. STEP: 9; ACTION: Repeat steps 6–8 until the owners return; ACCEPTANCE: '\n",
      " 'When the owners come back, make sure the pets are tired enough to just pass '\n",
      " \"out straight away. The owners will be so grateful, they'll pay you big \"\n",
      " 'bucks!')\n"
     ]
    }
   ],
   "source": [
    "while res.tool_calls:\n",
    "    tool_results = []\n",
    "    for call in res.tool_calls:\n",
    "        tool_result = invoke_tool(call)\n",
    "        tool_results.append({\n",
    "            \"call\": {\"name\": call.name, \"parameters\": call.parameters},\n",
    "            \"outputs\": tool_result\n",
    "        })\n",
    "    \n",
    "    res = co.chat(\n",
    "        model=\"command-r\",\n",
    "        preamble=PREAMBLE,\n",
    "        chat_history=res.chat_history,\n",
    "        message=\"\",\n",
    "        force_single_step=False,\n",
    "        tools=tools,\n",
    "        tool_results=tool_results,\n",
    "    )\n",
    "    \n",
    "    steps.append({\n",
    "        \"text\": res.text,\n",
    "        \"tool_calls\": [{\"name\": call.name, \"parameters\": call.parameters} for call in (res.tool_calls or [])],\n",
    "        \"tool_results\": tool_results\n",
    "    })\n",
    "\n",
    "last_step = steps[-1]\n",
    "pp.pprint(res.text)"
   ]
  },
  {
   "cell_type": "code",
   "execution_count": 56,
   "metadata": {},
   "outputs": [
    {
     "name": "stdout",
     "output_type": "stream",
     "text": [
      "['1. STEP: 1; ACTION: Go on Rover and become a pet sitter; ACCEPTANCE: You need to create a profile, upload a pic that makes you look trustworthy and go through the whole sign-up process. ', \"2. STEP: 2; ACTION: Now that you're on the app, you need to choose some pets to sit; ACCEPTANCE: You have to pick at least 3 furry friends to look after.\", '3. STEP: 3; ACTION: Time to do some serious research; ACCEPTANCE: You have to read up on the specific needs of each of your chosen pets and memorise their names. ', \"4. STEP: 4; ACTION: Get some gear; ACCEPTANCE: You'll need to buy some pet treats, a couple of new toys and a really cool harness for each pet. Don't forget the poop bags!\", '5. STEP: 5; ACTION: Plan your travel; ACCEPTANCE: Look up the best routes to take to visit each pet household and plan some fun stops along the way, like the dog park or an ice cream shop. ', \"6. STEP: 6; ACTION: Time to earn some respect; ACCEPTANCE: You have to earn the pets' trust. This might take a few days, so make sure to bring some snacks they like to help speed things up. \", '7. STEP: 7; ACTION: Now for some exercise; ACCEPTANCE: Take the good boys and girls on a super long walk—like, 2 hours minimum. You gotta tire them out so they sleep well at night.', \"8. STEP: 8; ACTION: You've earned some chill time; ACCEPTANCE: Kick back and binge-watch some shows, but keep an eye on the pets, obvs. You gotta make sure they're not getting into any trouble. \", \"9. STEP: 9; ACTION: Repeat steps 6–8 until the owners return; ACCEPTANCE: When the owners come back, make sure the pets are tired enough to just pass out straight away. The owners will be so grateful, they'll pay you big bucks!\"]\n"
     ]
    }
   ],
   "source": [
    "import re\n",
    "parsed = res.text.split(\"\\n\")\n",
    "parsed = list(filter(lambda x: x != \"\", parsed))\n",
    "parsed = list(filter(lambda x: re.match(r\"^\\d+.\", x), parsed))\n",
    "\n"
   ]
  }
 ],
 "metadata": {
  "kernelspec": {
   "display_name": "trippy-agent-3BJm9MKc-py3.12",
   "language": "python",
   "name": "python3"
  },
  "language_info": {
   "codemirror_mode": {
    "name": "ipython",
    "version": 3
   },
   "file_extension": ".py",
   "mimetype": "text/x-python",
   "name": "python",
   "nbconvert_exporter": "python",
   "pygments_lexer": "ipython3",
   "version": "3.12.3"
  }
 },
 "nbformat": 4,
 "nbformat_minor": 2
}
